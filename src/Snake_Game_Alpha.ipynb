{
  "nbformat": 4,
  "nbformat_minor": 0,
  "metadata": {
    "colab": {
      "name": "Snake-Game-Alpha.ipynb",
      "provenance": [],
      "collapsed_sections": [],
      "toc_visible": true
    },
    "kernelspec": {
      "name": "python3",
      "display_name": "Python 3"
    },
    "accelerator": "GPU"
  },
  "cells": [
    {
      "cell_type": "code",
      "metadata": {
        "id": "TNb7J4DYfYBw",
        "colab_type": "code",
        "colab": {}
      },
      "source": [
        "# uninstall older version and install tensorflow 2.0\n",
        "!pip uninstall tensorflow\n",
        "!pip install tensorflow==2.0.0-beta1"
      ],
      "execution_count": 0,
      "outputs": []
    },
    {
      "cell_type": "markdown",
      "metadata": {
        "id": "formRyucfARz",
        "colab_type": "text"
      },
      "source": [
        "Please restart the colab so as to make the tf 2.0 be effective."
      ]
    },
    {
      "cell_type": "code",
      "metadata": {
        "id": "VElE6EnehCK9",
        "colab_type": "code",
        "outputId": "7644fe19-2d27-416d-97a2-fa54ba0502b7",
        "colab": {
          "base_uri": "https://localhost:8080/",
          "height": 34
        }
      },
      "source": [
        "import tensorflow as tf\n",
        "print(tf.__version__)"
      ],
      "execution_count": 1,
      "outputs": [
        {
          "output_type": "stream",
          "text": [
            "2.0.0-beta1\n"
          ],
          "name": "stdout"
        }
      ]
    },
    {
      "cell_type": "code",
      "metadata": {
        "id": "MXBO6_7niH-0",
        "colab_type": "code",
        "colab": {}
      },
      "source": [
        "import urllib\n",
        "from os import listdir\n",
        "from os.path import isdir\n",
        "import shutil\n",
        "from PIL import Image\n",
        "import re\n",
        "import numpy as np\n",
        "from sklearn.model_selection import train_test_split"
      ],
      "execution_count": 0,
      "outputs": []
    },
    {
      "cell_type": "markdown",
      "metadata": {
        "id": "5nYm15zph2Zd",
        "colab_type": "text"
      },
      "source": [
        "## Step 0: Create Dataset"
      ]
    },
    {
      "cell_type": "markdown",
      "metadata": {
        "id": "WBTxEvj2FREs",
        "colab_type": "text"
      },
      "source": [
        "Here we downloaded our original dataset from [head pose image database](http://www-prima.inrialpes.fr/perso/Gourier/Faces/HPDatabase.html). And only four directions (up, down, left and right) are used to form the dataset of this demo. "
      ]
    },
    {
      "cell_type": "code",
      "metadata": {
        "id": "gj4vtDAihSNs",
        "colab_type": "code",
        "outputId": "d48378b4-3b44-4557-c8b8-4e5820ee5a32",
        "colab": {
          "base_uri": "https://localhost:8080/",
          "height": 34
        }
      },
      "source": [
        "dataset = \"http://www-prima.inrialpes.fr/perso/Gourier/Faces/HeadPoseImageDatabase.tar.gz\"\n",
        "urllib.request.urlretrieve(dataset,'data.tar.gz') "
      ],
      "execution_count": 6,
      "outputs": [
        {
          "output_type": "execute_result",
          "data": {
            "text/plain": [
              "('data.tar.gz', <http.client.HTTPMessage at 0x7f9084bde5c0>)"
            ]
          },
          "metadata": {
            "tags": []
          },
          "execution_count": 6
        }
      ]
    },
    {
      "cell_type": "code",
      "metadata": {
        "id": "u8Xvf8btimM-",
        "colab_type": "code",
        "colab": {}
      },
      "source": [
        "# tar file\n",
        "!mkdir data\n",
        "!mkdir headpose\n",
        "!tar -C ./data -zxvf data.tar.gz"
      ],
      "execution_count": 0,
      "outputs": []
    },
    {
      "cell_type": "code",
      "metadata": {
        "id": "xJ8TYZEyjV5-",
        "colab_type": "code",
        "colab": {}
      },
      "source": [
        "def createDataset(input_path, output_path):\n",
        "  personfolders = listdir(input_path)\n",
        "  for person in personfolders:\n",
        "    path = input_path + person\n",
        "    if isdir(path):\n",
        "      imagesList = listdir(path)\n",
        "      for image in imagesList:\n",
        "        image_path = path + '/' + image\n",
        "        if image[::-1][:9] == '-90+0.jpg'[::-1]:\n",
        "            shutil.copy(image_path, output_path + person + 'down.jpg')\n",
        "        elif image[::-1][:9] == '+0-90.jpg'[::-1]:\n",
        "            shutil.copy(image_path, output_path + person + 'right.jpg')\n",
        "        elif image[::-1][:9] == '+0+90.jpg'[::-1]:\n",
        "            shutil.copy(image_path, output_path + person + 'left.jpg')\n",
        "        elif image[::-1][:9] == '+90+0.jpg'[::-1]:\n",
        "            shutil.copy(image_path, output_path + person + 'up.jpg')"
      ],
      "execution_count": 0,
      "outputs": []
    },
    {
      "cell_type": "code",
      "metadata": {
        "id": "TyfTfCqEEYt8",
        "colab_type": "code",
        "colab": {}
      },
      "source": [
        "createDataset('./data/','./headpose/')"
      ],
      "execution_count": 0,
      "outputs": []
    },
    {
      "cell_type": "markdown",
      "metadata": {
        "id": "mIWY3v9hF9Hn",
        "colab_type": "text"
      },
      "source": [
        "## Step 1: Load Images and Pre-process"
      ]
    },
    {
      "cell_type": "markdown",
      "metadata": {
        "id": "Wmb9LDwcLr7H",
        "colab_type": "text"
      },
      "source": [
        "### (a) load images"
      ]
    },
    {
      "cell_type": "code",
      "metadata": {
        "id": "tX1quS9SGOc2",
        "colab_type": "code",
        "colab": {}
      },
      "source": [
        "def name2label(name):\n",
        "  label_dict = {'up':0, 'down':1, 'left': 2, 'right': 3}\n",
        "  direction = re.findall('[0-9]{2}[a-z]*',name)[0][2:]\n",
        "  return label_dict[direction]\n",
        "\n",
        "def loadImages(path, imgH, imgW):\n",
        "  imagesList = listdir(path)\n",
        "  loadedImages = []\n",
        "  labels = []\n",
        "  for image in imagesList:\n",
        "    img = Image.open(path + image)\n",
        "    img = img.resize((width, height))\n",
        "    loadedImages.append(img)\n",
        "    img_label = name2label(image)\n",
        "    labels.append(img_label) \n",
        "  return loadedImages, labels"
      ],
      "execution_count": 0,
      "outputs": []
    },
    {
      "cell_type": "code",
      "metadata": {
        "id": "ELePiZTmEs4U",
        "colab_type": "code",
        "colab": {}
      },
      "source": [
        "height = 224\n",
        "width = 224\n",
        "\n",
        "images, labels = loadImages('./headpose/', height, width)"
      ],
      "execution_count": 0,
      "outputs": []
    },
    {
      "cell_type": "markdown",
      "metadata": {
        "id": "HYb4VtqDMgk1",
        "colab_type": "text"
      },
      "source": [
        "### (b) preprocessing"
      ]
    },
    {
      "cell_type": "code",
      "metadata": {
        "id": "GDJK7MnvKZkf",
        "colab_type": "code",
        "colab": {}
      },
      "source": [
        "def preprocess_images(imagesList):\n",
        "  n =  len(images)\n",
        "  images_array = np.zeros(shape=(n, width, height, 3), dtype='float32')\n",
        "  for i in range(n):\n",
        "    images_array[i,:,:,:] = np.asarray(imagesList[i], dtype='float32')\n",
        "  images_array = images_array / 127.5 - 1  #refer keras image preprocessing utils(tf mode)\n",
        "  return images_array"
      ],
      "execution_count": 0,
      "outputs": []
    },
    {
      "cell_type": "code",
      "metadata": {
        "id": "HaHsNp2INQHf",
        "colab_type": "code",
        "outputId": "2b993c57-403f-471e-e02f-45640d1d4ef1",
        "colab": {
          "base_uri": "https://localhost:8080/",
          "height": 34
        }
      },
      "source": [
        "images_array = preprocess_images(images)\n",
        "labels = np.array(labels)\n",
        "print(images_array.shape)"
      ],
      "execution_count": 6,
      "outputs": [
        {
          "output_type": "stream",
          "text": [
            "(60, 224, 224, 3)\n"
          ],
          "name": "stdout"
        }
      ]
    },
    {
      "cell_type": "markdown",
      "metadata": {
        "id": "pW78oC7JO2vl",
        "colab_type": "text"
      },
      "source": [
        "### (c) split training and test dataset"
      ]
    },
    {
      "cell_type": "code",
      "metadata": {
        "id": "xnIHlYPHOul4",
        "colab_type": "code",
        "colab": {}
      },
      "source": [
        "# images_train, images_test, labels_train, labels_test = train_test_split(images, labels, test_size=0.33, random_state=1234)"
      ],
      "execution_count": 0,
      "outputs": []
    },
    {
      "cell_type": "markdown",
      "metadata": {
        "id": "VRnyjg_qQ_Am",
        "colab_type": "text"
      },
      "source": [
        "## Step 2: Train Model"
      ]
    },
    {
      "cell_type": "code",
      "metadata": {
        "id": "fk9_q9fYRDt8",
        "colab_type": "code",
        "colab": {}
      },
      "source": [
        "mobile_net = tf.keras.applications.MobileNet(input_shape=(224, 224, 3), include_top=False)\n",
        "mobile_net.trainable=False  #non-trainable"
      ],
      "execution_count": 0,
      "outputs": []
    },
    {
      "cell_type": "code",
      "metadata": {
        "id": "Siv6ycGyS1NR",
        "colab_type": "code",
        "colab": {}
      },
      "source": [
        "# build a model based on mobile_net\n",
        "snake_model= tf.keras.Sequential([\n",
        "  mobile_net,\n",
        "  tf.keras.layers.Flatten(), \n",
        "  tf.keras.layers.Dense(100,activation='relu'),\n",
        "  tf.keras.layers.Dense(4,activation='softmax')])"
      ],
      "execution_count": 0,
      "outputs": []
    },
    {
      "cell_type": "code",
      "metadata": {
        "id": "4l_xOioxTn96",
        "colab_type": "code",
        "outputId": "95d74564-9b5e-4886-9b41-0dc1083ce34a",
        "colab": {
          "base_uri": "https://localhost:8080/",
          "height": 445
        }
      },
      "source": [
        "snake_model.compile(optimizer=tf.optimizers.Adam(1e-4), \n",
        "                  loss=tf.keras.losses.sparse_categorical_crossentropy,\n",
        "                  metrics=[\"accuracy\"])\n",
        "history=snake_model.fit(images_array,labels,batch_size=4,epochs=10,validation_split=0.1)"
      ],
      "execution_count": 9,
      "outputs": [
        {
          "output_type": "stream",
          "text": [
            "WARNING:tensorflow:From /usr/local/lib/python3.6/dist-packages/tensorflow/python/ops/math_grad.py:1250: add_dispatch_support.<locals>.wrapper (from tensorflow.python.ops.array_ops) is deprecated and will be removed in a future version.\n",
            "Instructions for updating:\n",
            "Use tf.where in 2.0, which has the same broadcast rule as np.where\n",
            "Train on 54 samples, validate on 6 samples\n",
            "Epoch 1/10\n",
            "54/54 [==============================] - 8s 149ms/sample - loss: 1.3511 - accuracy: 0.5926 - val_loss: 0.2688 - val_accuracy: 0.8333\n",
            "Epoch 2/10\n",
            "54/54 [==============================] - 6s 106ms/sample - loss: 0.0862 - accuracy: 0.9630 - val_loss: 0.1966 - val_accuracy: 1.0000\n",
            "Epoch 3/10\n",
            "54/54 [==============================] - 6s 106ms/sample - loss: 0.0104 - accuracy: 1.0000 - val_loss: 0.6665 - val_accuracy: 0.5000\n",
            "Epoch 4/10\n",
            "54/54 [==============================] - 6s 107ms/sample - loss: 6.3904e-04 - accuracy: 1.0000 - val_loss: 0.7436 - val_accuracy: 0.5000\n",
            "Epoch 5/10\n",
            "54/54 [==============================] - 6s 107ms/sample - loss: 2.1208e-04 - accuracy: 1.0000 - val_loss: 0.6259 - val_accuracy: 0.5000\n",
            "Epoch 6/10\n",
            "54/54 [==============================] - 6s 106ms/sample - loss: 0.0214 - accuracy: 0.9815 - val_loss: 0.6404 - val_accuracy: 0.8333\n",
            "Epoch 7/10\n",
            "54/54 [==============================] - 6s 107ms/sample - loss: 0.0414 - accuracy: 0.9815 - val_loss: 0.4491 - val_accuracy: 0.6667\n",
            "Epoch 8/10\n",
            "54/54 [==============================] - 6s 106ms/sample - loss: 0.0037 - accuracy: 1.0000 - val_loss: 2.2044 - val_accuracy: 0.6667\n",
            "Epoch 9/10\n",
            "54/54 [==============================] - 6s 107ms/sample - loss: 0.0072 - accuracy: 1.0000 - val_loss: 0.5355 - val_accuracy: 0.8333\n",
            "Epoch 10/10\n",
            "54/54 [==============================] - 6s 107ms/sample - loss: 6.4986e-06 - accuracy: 1.0000 - val_loss: 0.0672 - val_accuracy: 1.0000\n"
          ],
          "name": "stdout"
        }
      ]
    },
    {
      "cell_type": "code",
      "metadata": {
        "id": "sHEiZQ_ZUJMA",
        "colab_type": "code",
        "outputId": "f6fea622-846d-4bc6-9045-8b3ad8867256",
        "colab": {
          "base_uri": "https://localhost:8080/",
          "height": 323
        }
      },
      "source": [
        "import matplotlib.pyplot as plt\n",
        "\n",
        "plt.figure(figsize=(10,5))\n",
        "plt.subplot(121)\n",
        "plt.plot(history.epoch,history.history['loss'],label='train')\n",
        "plt.plot(history.epoch,history.history['val_loss'],'--',label='validation')\n",
        "plt.subplot(122)\n",
        "plt.plot(history.epoch,history.history['accuracy'],label='train')\n",
        "plt.plot(history.epoch,history.history['val_accuracy'],'--',label='validation')\n",
        "plt.legend()\n",
        "plt.show()"
      ],
      "execution_count": 10,
      "outputs": [
        {
          "output_type": "display_data",
          "data": {
            "image/png": "[encoded data removed]",
            "text/plain": [
              "<Figure size 720x360 with 2 Axes>"
            ]
          },
          "metadata": {
            "tags": []
          }
        }
      ]
    },
    {
      "cell_type": "markdown",
      "metadata": {
        "id": "y27evM5yXQCL",
        "colab_type": "text"
      },
      "source": [
        "### Step 3: Save Model"
      ]
    },
    {
      "cell_type": "code",
      "metadata": {
        "id": "wHzb1xfKan-y",
        "colab_type": "code",
        "colab": {}
      },
      "source": [
        "!mkdir model\n",
        "snake_model.save('./model/model.h5')"
      ],
      "execution_count": 0,
      "outputs": []
    },
    {
      "cell_type": "code",
      "metadata": {
        "id": "CbzH_BChaWF_",
        "colab_type": "code",
        "colab": {
          "base_uri": "https://localhost:8080/",
          "height": 1000
        },
        "outputId": "295b1c23-dff9-4bb2-f8a6-38c9e57be5d3"
      },
      "source": [
        "!sudo pip install tensorflowjs"
      ],
      "execution_count": 12,
      "outputs": [
        {
          "output_type": "stream",
          "text": [
            "Collecting tensorflowjs\n",
            "\u001b[?25l  Downloading https://files.pythonhosted.org/packages/cf/33/cc0c2caf6e1dc07858b42e268a3f18c525263aad2be8dba6a8ee02b4e8bb/tensorflowjs-1.2.10.1-py3-none-any.whl (47kB)\n",
            "\r\u001b[K     |██████▉                         | 10kB 15.1MB/s eta 0:00:01\r\u001b[K     |█████████████▊                  | 20kB 1.8MB/s eta 0:00:01\r\u001b[K     |████████████████████▋           | 30kB 2.6MB/s eta 0:00:01\r\u001b[K     |███████████████████████████▍    | 40kB 1.7MB/s eta 0:00:01\r\u001b[K     |████████████████████████████████| 51kB 2.0MB/s \n",
            "\u001b[?25hRequirement already satisfied: gast==0.2.2 in /usr/local/lib/python3.6/dist-packages (from tensorflowjs) (0.2.2)\n",
            "Collecting tensorflow-hub==0.5.0 (from tensorflowjs)\n",
            "\u001b[?25l  Downloading https://files.pythonhosted.org/packages/b5/be/f18c352d84382d9c795a0f37eaf16d42ace7d161fbb0ad20bdcd5e550015/tensorflow_hub-0.5.0-py2.py3-none-any.whl (78kB)\n",
            "\r\u001b[K     |████▏                           | 10kB 21.5MB/s eta 0:00:01\r\u001b[K     |████████▍                       | 20kB 27.2MB/s eta 0:00:01\r\u001b[K     |████████████▋                   | 30kB 33.4MB/s eta 0:00:01\r\u001b[K     |████████████████▉               | 40kB 36.4MB/s eta 0:00:01\r\u001b[K     |█████████████████████           | 51kB 4.4MB/s eta 0:00:01\r\u001b[K     |█████████████████████████▏      | 61kB 5.2MB/s eta 0:00:01\r\u001b[K     |█████████████████████████████▍  | 71kB 6.0MB/s eta 0:00:01\r\u001b[K     |████████████████████████████████| 81kB 6.2MB/s \n",
            "\u001b[?25hCollecting numpy==1.16.4 (from tensorflowjs)\n",
            "\u001b[?25l  Downloading https://files.pythonhosted.org/packages/87/2d/e4656149cbadd3a8a0369fcd1a9c7d61cc7b87b3903b85389c70c989a696/numpy-1.16.4-cp36-cp36m-manylinux1_x86_64.whl (17.3MB)\n",
            "\u001b[K     |████████████████████████████████| 17.3MB 7.6MB/s \n",
            "\u001b[?25hCollecting six==1.11.0 (from tensorflowjs)\n",
            "  Downloading https://files.pythonhosted.org/packages/67/4b/141a581104b1f6397bfa78ac9d43d8ad29a7ca43ea90a2d863fe3056e86a/six-1.11.0-py2.py3-none-any.whl\n",
            "Collecting PyInquirer==1.0.3 (from tensorflowjs)\n",
            "  Downloading https://files.pythonhosted.org/packages/fb/4c/434b7c454010a284b49d6f1d446fe8dc5960415613d8c0225b9e2efb6724/PyInquirer-1.0.3.tar.gz\n",
            "Requirement already satisfied: h5py==2.8.0 in /usr/local/lib/python3.6/dist-packages (from tensorflowjs) (2.8.0)\n",
            "Collecting tensorflow==1.14.0 (from tensorflowjs)\n",
            "\u001b[?25l  Downloading https://files.pythonhosted.org/packages/de/f0/96fb2e0412ae9692dbf400e5b04432885f677ad6241c088ccc5fe7724d69/tensorflow-1.14.0-cp36-cp36m-manylinux1_x86_64.whl (109.2MB)\n",
            "\u001b[K     |████████████████████████████████| 109.2MB 210kB/s \n",
            "\u001b[?25hRequirement already satisfied: protobuf>=3.4.0 in /usr/local/lib/python3.6/dist-packages (from tensorflow-hub==0.5.0->tensorflowjs) (3.7.1)\n",
            "Collecting prompt_toolkit==1.0.14 (from PyInquirer==1.0.3->tensorflowjs)\n",
            "\u001b[?25l  Downloading https://files.pythonhosted.org/packages/ee/3d/b25d35a9f0d381dd1c02d8e04b37c353caaaff4bc32150328eeebe4931f5/prompt_toolkit-1.0.14-py3-none-any.whl (248kB)\n",
            "\u001b[K     |████████████████████████████████| 256kB 42.8MB/s \n",
            "\u001b[?25hCollecting Pygments>=2.2.0 (from PyInquirer==1.0.3->tensorflowjs)\n",
            "\u001b[?25l  Downloading https://files.pythonhosted.org/packages/5c/73/1dfa428150e3ccb0fa3e68db406e5be48698f2a979ccbcec795f28f44048/Pygments-2.4.2-py2.py3-none-any.whl (883kB)\n",
            "\u001b[K     |████████████████████████████████| 890kB 36.5MB/s \n",
            "\u001b[?25hCollecting regex>=2016.11.21 (from PyInquirer==1.0.3->tensorflowjs)\n",
            "\u001b[?25l  Downloading https://files.pythonhosted.org/packages/6f/a6/99eeb5904ab763db87af4bd71d9b1dfdd9792681240657a4c0a599c10a81/regex-2019.08.19.tar.gz (654kB)\n",
            "\u001b[K     |████████████████████████████████| 655kB 43.5MB/s \n",
            "\u001b[?25hRequirement already satisfied: termcolor>=1.1.0 in /usr/local/lib/python3.6/dist-packages (from tensorflow==1.14.0->tensorflowjs) (1.1.0)\n",
            "Requirement already satisfied: grpcio>=1.8.6 in /usr/local/lib/python3.6/dist-packages (from tensorflow==1.14.0->tensorflowjs) (1.15.0)\n",
            "Collecting tensorflow-estimator<1.15.0rc0,>=1.14.0rc0 (from tensorflow==1.14.0->tensorflowjs)\n",
            "\u001b[?25l  Downloading https://files.pythonhosted.org/packages/3c/d5/21860a5b11caf0678fbc8319341b0ae21a07156911132e0e71bffed0510d/tensorflow_estimator-1.14.0-py2.py3-none-any.whl (488kB)\n",
            "\u001b[K     |████████████████████████████████| 491kB 49.2MB/s \n",
            "\u001b[?25hRequirement already satisfied: wrapt>=1.11.1 in /usr/local/lib/python3.6/dist-packages (from tensorflow==1.14.0->tensorflowjs) (1.11.2)\n",
            "Requirement already satisfied: google-pasta>=0.1.6 in /usr/local/lib/python3.6/dist-packages (from tensorflow==1.14.0->tensorflowjs) (0.1.7)\n",
            "Requirement already satisfied: astor>=0.6.0 in /usr/local/lib/python3.6/dist-packages (from tensorflow==1.14.0->tensorflowjs) (0.8.0)\n",
            "Collecting tensorboard<1.15.0,>=1.14.0 (from tensorflow==1.14.0->tensorflowjs)\n",
            "\u001b[?25l  Downloading https://files.pythonhosted.org/packages/91/2d/2ed263449a078cd9c8a9ba50ebd50123adf1f8cfbea1492f9084169b89d9/tensorboard-1.14.0-py3-none-any.whl (3.1MB)\n",
            "\u001b[K     |████████████████████████████████| 3.2MB 28.1MB/s \n",
            "\u001b[?25hRequirement already satisfied: keras-applications>=1.0.6 in /usr/local/lib/python3.6/dist-packages (from tensorflow==1.14.0->tensorflowjs) (1.0.8)\n",
            "Requirement already satisfied: absl-py>=0.7.0 in /usr/local/lib/python3.6/dist-packages (from tensorflow==1.14.0->tensorflowjs) (0.8.0)\n",
            "Requirement already satisfied: wheel>=0.26 in /usr/local/lib/python3.6/dist-packages (from tensorflow==1.14.0->tensorflowjs) (0.33.6)\n",
            "Requirement already satisfied: keras-preprocessing>=1.0.5 in /usr/local/lib/python3.6/dist-packages (from tensorflow==1.14.0->tensorflowjs) (1.1.0)\n",
            "Requirement already satisfied: setuptools in /usr/local/lib/python3.6/dist-packages (from protobuf>=3.4.0->tensorflow-hub==0.5.0->tensorflowjs) (41.2.0)\n",
            "Requirement already satisfied: wcwidth in /usr/local/lib/python3.6/dist-packages (from prompt_toolkit==1.0.14->PyInquirer==1.0.3->tensorflowjs) (0.1.7)\n",
            "Requirement already satisfied: markdown>=2.6.8 in /usr/local/lib/python3.6/dist-packages (from tensorboard<1.15.0,>=1.14.0->tensorflow==1.14.0->tensorflowjs) (3.1.1)\n",
            "Requirement already satisfied: werkzeug>=0.11.15 in /usr/local/lib/python3.6/dist-packages (from tensorboard<1.15.0,>=1.14.0->tensorflow==1.14.0->tensorflowjs) (0.16.0)\n",
            "Building wheels for collected packages: PyInquirer, regex\n",
            "  Building wheel for PyInquirer (setup.py) ... \u001b[?25l\u001b[?25hdone\n",
            "  Created wheel for PyInquirer: filename=PyInquirer-1.0.3-cp36-none-any.whl size=32853 sha256=5093d8214a1edd2d84a9d0a9b72e3eb0eee9824848b35b859619267df921260f\n",
            "  Stored in directory: /root/.cache/pip/wheels/52/6c/b1/3e4b0e8daf42a92883c7641c0ea8ffb62e0490ebed2faa55ad\n",
            "  Building wheel for regex (setup.py) ... \u001b[?25l\u001b[?25hdone\n",
            "  Created wheel for regex: filename=regex-2019.8.19-cp36-cp36m-linux_x86_64.whl size=609226 sha256=fa50466efdc8a5931acccbde845754a9840a122f1a7e8b9317616bac5843f6d5\n",
            "  Stored in directory: /root/.cache/pip/wheels/90/04/07/b5010fb816721eb3d6dd64ed5cc8111ca23f97fdab8619b5be\n",
            "Successfully built PyInquirer regex\n",
            "\u001b[31mERROR: google-colab 1.0.0 has requirement six~=1.12.0, but you'll have six 1.11.0 which is incompatible.\u001b[0m\n",
            "\u001b[31mERROR: datascience 0.10.6 has requirement folium==0.2.1, but you'll have folium 0.8.3 which is incompatible.\u001b[0m\n",
            "\u001b[31mERROR: albumentations 0.1.12 has requirement imgaug<0.2.7,>=0.2.5, but you'll have imgaug 0.2.9 which is incompatible.\u001b[0m\n",
            "Installing collected packages: six, numpy, tensorflow-hub, prompt-toolkit, Pygments, regex, PyInquirer, tensorflow-estimator, tensorboard, tensorflow, tensorflowjs\n",
            "  Found existing installation: six 1.12.0\n",
            "    Uninstalling six-1.12.0:\n",
            "      Successfully uninstalled six-1.12.0\n",
            "  Found existing installation: numpy 1.16.5\n",
            "    Uninstalling numpy-1.16.5:\n",
            "      Successfully uninstalled numpy-1.16.5\n",
            "  Found existing installation: tensorflow-hub 0.6.0\n",
            "    Uninstalling tensorflow-hub-0.6.0:\n",
            "      Successfully uninstalled tensorflow-hub-0.6.0\n",
            "  Found existing installation: prompt-toolkit 1.0.18\n",
            "    Uninstalling prompt-toolkit-1.0.18:\n",
            "      Successfully uninstalled prompt-toolkit-1.0.18\n",
            "  Found existing installation: Pygments 2.1.3\n",
            "    Uninstalling Pygments-2.1.3:\n",
            "      Successfully uninstalled Pygments-2.1.3\n",
            "  Found existing installation: tensorflow-estimator 1.15.1\n",
            "    Uninstalling tensorflow-estimator-1.15.1:\n",
            "      Successfully uninstalled tensorflow-estimator-1.15.1\n",
            "  Found existing installation: tensorboard 1.15.0\n",
            "    Uninstalling tensorboard-1.15.0:\n",
            "      Successfully uninstalled tensorboard-1.15.0\n",
            "  Found existing installation: tensorflow 2.0.0b1\n",
            "    Uninstalling tensorflow-2.0.0b1:\n",
            "      Successfully uninstalled tensorflow-2.0.0b1\n",
            "Successfully installed PyInquirer-1.0.3 Pygments-2.4.2 numpy-1.16.4 prompt-toolkit-1.0.14 regex-2019.8.19 six-1.11.0 tensorboard-1.14.0 tensorflow-1.14.0 tensorflow-estimator-1.14.0 tensorflow-hub-0.5.0 tensorflowjs-1.2.10.1\n"
          ],
          "name": "stdout"
        }
      ]
    },
    {
      "cell_type": "code",
      "metadata": {
        "id": "Pp6Gru50VTAz",
        "colab_type": "code",
        "colab": {}
      },
      "source": [
        "!mkdir tfjs_model\n",
        "!tensorflowjs_converter --input_format=keras ./model/model.h5 ./tfjs_model"
      ],
      "execution_count": 0,
      "outputs": []
    },
    {
      "cell_type": "code",
      "metadata": {
        "id": "y2JKeuzLaDCr",
        "colab_type": "code",
        "colab": {
          "base_uri": "https://localhost:8080/",
          "height": 187
        },
        "outputId": "f8b596f8-9fb3-4a04-f377-b5b0e45093e3"
      },
      "source": [
        "!zip -r model.zip ./tfjs_model/"
      ],
      "execution_count": 14,
      "outputs": [
        {
          "output_type": "stream",
          "text": [
            "  adding: tfjs_model/ (stored 0%)\n",
            "  adding: tfjs_model/group1-shard3of8.bin (deflated 8%)\n",
            "  adding: tfjs_model/group1-shard5of8.bin (deflated 7%)\n",
            "  adding: tfjs_model/group1-shard6of8.bin (deflated 7%)\n",
            "  adding: tfjs_model/group1-shard8of8.bin (deflated 7%)\n",
            "  adding: tfjs_model/group1-shard4of8.bin (deflated 8%)\n",
            "  adding: tfjs_model/model.json (deflated 94%)\n",
            "  adding: tfjs_model/group1-shard7of8.bin (deflated 7%)\n",
            "  adding: tfjs_model/group1-shard2of8.bin (deflated 8%)\n",
            "  adding: tfjs_model/group1-shard1of8.bin (deflated 8%)\n"
          ],
          "name": "stdout"
        }
      ]
    }
  ]
}