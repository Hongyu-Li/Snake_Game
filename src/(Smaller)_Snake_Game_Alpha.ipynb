{
  "nbformat": 4,
  "nbformat_minor": 0,
  "metadata": {
    "colab": {
      "name": "(Smaller) Snake-Game-Alpha.ipynb",
      "provenance": [],
      "collapsed_sections": [],
      "toc_visible": true,
      "machine_shape": "hm"
    },
    "kernelspec": {
      "name": "python3",
      "display_name": "Python 3"
    },
    "accelerator": "GPU"
  },
  "cells": [
    {
      "cell_type": "code",
      "metadata": {
        "id": "TNb7J4DYfYBw",
        "colab_type": "code",
        "colab": {}
      },
      "source": [
        "# uninstall older version and install tensorflow 2.0\n",
        "!pip uninstall tensorflow\n",
        "!pip install tensorflow==2.0.0-beta1"
      ],
      "execution_count": 0,
      "outputs": []
    },
    {
      "cell_type": "markdown",
      "metadata": {
        "id": "formRyucfARz",
        "colab_type": "text"
      },
      "source": [
        "Please restart the colab so as to make the tf 2.0 be effective. "
      ]
    },
    {
      "cell_type": "code",
      "metadata": {
        "id": "VElE6EnehCK9",
        "colab_type": "code",
        "outputId": "5cb476e3-a0fb-450b-a4ed-521d61e8b8ab",
        "colab": {
          "base_uri": "https://localhost:8080/",
          "height": 34
        }
      },
      "source": [
        "import tensorflow as tf\n",
        "print(tf.__version__)"
      ],
      "execution_count": 0,
      "outputs": [
        {
          "output_type": "stream",
          "text": [
            "2.0.0-beta1\n"
          ],
          "name": "stdout"
        }
      ]
    },
    {
      "cell_type": "code",
      "metadata": {
        "id": "MXBO6_7niH-0",
        "colab_type": "code",
        "colab": {}
      },
      "source": [
        "import urllib\n",
        "from os import listdir\n",
        "from os.path import isdir\n",
        "import shutil\n",
        "from PIL import Image\n",
        "import re\n",
        "import numpy as np\n",
        "import cv2\n",
        "import matplotlib.pyplot as plt\n",
        "from sklearn.utils import shuffle\n",
        "from tensorflow.python.keras import models"
      ],
      "execution_count": 0,
      "outputs": []
    },
    {
      "cell_type": "markdown",
      "metadata": {
        "id": "ktlfET6orqW3",
        "colab_type": "text"
      },
      "source": [
        "# Snake Game: Alpha Version"
      ]
    },
    {
      "cell_type": "markdown",
      "metadata": {
        "id": "xPgq_bLLruNk",
        "colab_type": "text"
      },
      "source": [
        "This document is for playing snake game with using your head gestures. Our work was inspired by google [Pac-Man](https://storage.googleapis.com/tfjs-examples/webcam-transfer-learning/dist/index.html) demo. If you're intrested, this notebook could be run end-to-end but it would take 20 minutes or so. "
      ]
    },
    {
      "cell_type": "markdown",
      "metadata": {
        "id": "5nYm15zph2Zd",
        "colab_type": "text"
      },
      "source": [
        "## Step 0: Create Dataset"
      ]
    },
    {
      "cell_type": "markdown",
      "metadata": {
        "id": "WBTxEvj2FREs",
        "colab_type": "text"
      },
      "source": [
        "Here we downloaded our original dataset from [head pose image database](http://www-prima.inrialpes.fr/perso/Gourier/Faces/HPDatabase.html). The head pose database is a benchmark of 2790 monocular face images of 15 persons with variations of pan and tilt angles from -90 to +90 degrees. However, in our project, only four directions (up, down, left and right) are needed. Therefore, we classified all images in the database into four directions based on tester head's tilt and pan. The criteria is shown as follow."
      ]
    },
    {
      "cell_type": "markdown",
      "metadata": {
        "id": "c4orqgby5EPG",
        "colab_type": "text"
      },
      "source": [
        "![split-criteria](http://www.columbia.edu/~hl3099/split-criteria.png)"
      ]
    },
    {
      "cell_type": "code",
      "metadata": {
        "id": "gj4vtDAihSNs",
        "colab_type": "code",
        "outputId": "ec10d54e-0719-48a4-e48e-58aed6d27bf5",
        "colab": {
          "base_uri": "https://localhost:8080/",
          "height": 34
        }
      },
      "source": [
        "dataset = \"http://www-prima.inrialpes.fr/perso/Gourier/Faces/HeadPoseImageDatabase.tar.gz\"\n",
        "urllib.request.urlretrieve(dataset,'data.tar.gz') "
      ],
      "execution_count": 0,
      "outputs": [
        {
          "output_type": "execute_result",
          "data": {
            "text/plain": [
              "('data.tar.gz', <http.client.HTTPMessage at 0x7f4605c95978>)"
            ]
          },
          "metadata": {
            "tags": []
          },
          "execution_count": 3
        }
      ]
    },
    {
      "cell_type": "code",
      "metadata": {
        "id": "u8Xvf8btimM-",
        "colab_type": "code",
        "colab": {}
      },
      "source": [
        "# tar file\n",
        "!mkdir data\n",
        "!mkdir headpose\n",
        "!tar -C ./data -zxvf data.tar.gz"
      ],
      "execution_count": 0,
      "outputs": []
    },
    {
      "cell_type": "code",
      "metadata": {
        "id": "pmLD4fdhSxhh",
        "colab_type": "code",
        "colab": {}
      },
      "source": [
        "def createDataset(input_path, output_path):\n",
        "  personfolders = listdir(input_path)\n",
        "  for person in personfolders:\n",
        "    path = input_path + person\n",
        "    if isdir(path):\n",
        "      imagesList = listdir(path)\n",
        "      for image in imagesList:\n",
        "        image_path = path + '/' + image\n",
        "        if image[::-1][:4] == '.jpg'[::-1]:\n",
        "            image_name = image[::-1][:10][::-1]\n",
        "            output_name = output_path + image[::-1][4:][::-1]\n",
        "            if person == 'start':\n",
        "                shutil.copy(image_path, output_name + 'start.jpg')\n",
        "            elif person == 'Front':\n",
        "                shutil.copy(image_path, output_name + 'front.jpg')\n",
        "            else:\n",
        "                tilt = int(re.findall('[+-]{1}[0-9]*',image_name)[0])\n",
        "                pan = int(re.findall('[+-]{1}[0-9]*',image_name)[1])\n",
        "                if abs(tilt) <= 15 and abs(pan) <= 15:\n",
        "                    shutil.copy(image_path, output_name + 'front.jpg')\n",
        "                elif tilt <= -30 and abs(pan) <= 45:\n",
        "                    shutil.copy(image_path, output_name + 'down.jpg')\n",
        "                elif tilt >= 30 and abs(pan) <= 45:\n",
        "                    shutil.copy(image_path, output_name + 'up.jpg')   \n",
        "                elif (abs(tilt) > 30 and pan < -45) or (abs(tilt) <= 15 and pan < -15):\n",
        "                    shutil.copy(image_path, output_name + 'left.jpg') \n",
        "                elif (abs(tilt) > 30 and pan > 45) or (abs(tilt) <= 15 and pan > 15):\n",
        "                    shutil.copy(image_path, output_name + 'right.jpg')"
      ],
      "execution_count": 0,
      "outputs": []
    },
    {
      "cell_type": "code",
      "metadata": {
        "id": "TyfTfCqEEYt8",
        "colab_type": "code",
        "colab": {}
      },
      "source": [
        "createDataset('./data/','./headpose/')"
      ],
      "execution_count": 0,
      "outputs": []
    },
    {
      "cell_type": "markdown",
      "metadata": {
        "id": "mIWY3v9hF9Hn",
        "colab_type": "text"
      },
      "source": [
        "## Step 1: Load Images and Pre-process"
      ]
    },
    {
      "cell_type": "markdown",
      "metadata": {
        "id": "Wmb9LDwcLr7H",
        "colab_type": "text"
      },
      "source": [
        "### (a) load images"
      ]
    },
    {
      "cell_type": "code",
      "metadata": {
        "id": "tX1quS9SGOc2",
        "colab_type": "code",
        "colab": {}
      },
      "source": [
        "def name2label(name):\n",
        "  label_dict = {'front':0, 'up':1, 'down':2, 'left': 3, 'right': 4}\n",
        "  direction = re.findall('[0-9]{1}[a-z]+',name)[0][1:]\n",
        "  return label_dict[direction]\n",
        "\n",
        "def loadImages(path, imgH, imgW):\n",
        "  imagesList = listdir(path)\n",
        "  loadedImages = []\n",
        "  labels = []\n",
        "  for image in imagesList:\n",
        "    try:\n",
        "      img = Image.open(path + image)\n",
        "    except:\n",
        "      continue\n",
        "    if img.mode != 'RGB':\n",
        "      continue\n",
        "    img = img.resize((width, height))\n",
        "    loadedImages.append(img)\n",
        "    img_label = name2label(image)\n",
        "    labels.append(img_label) \n",
        "  return loadedImages, labels"
      ],
      "execution_count": 0,
      "outputs": []
    },
    {
      "cell_type": "code",
      "metadata": {
        "id": "ELePiZTmEs4U",
        "colab_type": "code",
        "colab": {}
      },
      "source": [
        "height = 224\n",
        "width = 224\n",
        "\n",
        "images, labels = loadImages('./headpose/', height, width)"
      ],
      "execution_count": 0,
      "outputs": []
    },
    {
      "cell_type": "markdown",
      "metadata": {
        "id": "iJoC5gzAy_Id",
        "colab_type": "text"
      },
      "source": [
        "### (b)data augmentation"
      ]
    },
    {
      "cell_type": "markdown",
      "metadata": {
        "id": "zvsh7dm2yeOL",
        "colab_type": "text"
      },
      "source": [
        "Since we care about the generalization ability of our model more, we applied some data augmentation techniques, such as translation and adding noise on our original dataset. One thing needed to be pointed out is that here we did not flip our data because directions matter in our model.  "
      ]
    },
    {
      "cell_type": "code",
      "metadata": {
        "id": "kMu46m9VzJ41",
        "colab_type": "code",
        "colab": {}
      },
      "source": [
        "def data_aug(x, flip=False):\n",
        "  \n",
        "  x = np.expand_dims(x,0)\n",
        "  # left-translation with 10px\n",
        "  x1 = tf.image.pad_to_bounding_box(x, 0, 10, 224, 234)\n",
        "  x1 = tf.image.crop_to_bounding_box(x1, 0, 0, 224, 224).numpy()[0]\n",
        "  \n",
        "  # top-translation with 10px\n",
        "  x2 = tf.image.pad_to_bounding_box(x, 10, 0, 234, 224)\n",
        "  x2 = tf.image.crop_to_bounding_box(x2, 0, 0, 224, 224).numpy()[0]\n",
        "  \n",
        "  # right-translation with 10px\n",
        "  x3 = tf.image.pad_to_bounding_box(x, 0, 0, 224, 234)\n",
        "  x3 = tf.image.crop_to_bounding_box(x3, 0, 10, 224, 224).numpy()[0]\n",
        "  \n",
        "  # bottom-translation with 10px\n",
        "  x4 = tf.image.pad_to_bounding_box(x, 0, 0, 234, 224)\n",
        "  x4 = tf.image.crop_to_bounding_box(x4, 10, 0, 224, 224).numpy()[0]\n",
        "  \n",
        "  # add noise\n",
        "  noise = tf.random.normal(shape=tf.shape(x), mean=0.0, stddev=100,dtype=tf.float32)\n",
        "  x5 = tf.add(x, noise).numpy()[0]\n",
        "  \n",
        "  if flip:\n",
        "    x6 = tf.image.flip_up_down(x).numpy()[0]\n",
        "    x7 = tf.image.flip_left_right(x).numpy()[0]\n",
        "    return [x[0],x1,x2,x3,x4,x5,x6,x7]                       \n",
        "  else:\n",
        "    return [x[0],x1,x2,x3,x4,x5] \n",
        "                           "
      ],
      "execution_count": 0,
      "outputs": []
    },
    {
      "cell_type": "markdown",
      "metadata": {
        "id": "HYb4VtqDMgk1",
        "colab_type": "text"
      },
      "source": [
        "### (c) preprocessing"
      ]
    },
    {
      "cell_type": "markdown",
      "metadata": {
        "id": "kceuGrNrzT_W",
        "colab_type": "text"
      },
      "source": [
        "Since our data is unbalanced which could have a great effect on training and prediction. Therefore, we resampled the augmented dataset a little bit so as to make it more balanced."
      ]
    },
    {
      "cell_type": "code",
      "metadata": {
        "id": "GDJK7MnvKZkf",
        "colab_type": "code",
        "colab": {}
      },
      "source": [
        "def preprocess_images(imagesList, labels):\n",
        "  n =  len(images)\n",
        "  images_array = []\n",
        "  labels_aug = []\n",
        "  for i in range(n):\n",
        "    thres = np.random.uniform(size=1)\n",
        "    if labels[i] == 0 and thres < 0.7:\n",
        "      images_aug = data_aug(np.asarray(imagesList[i], dtype='float32'))\n",
        "      images_array += images_aug\n",
        "      labels_aug += [labels[i]]*6\n",
        "    elif labels[i] == 1 and thres < 0.5:\n",
        "      images_aug = data_aug(np.asarray(imagesList[i], dtype='float32'))\n",
        "      images_array += images_aug\n",
        "      labels_aug += [labels[i]]*6\n",
        "    elif labels[i] == 2 and thres < 0.5:\n",
        "      images_aug = data_aug(np.asarray(imagesList[i], dtype='float32'))\n",
        "      images_array += images_aug\n",
        "      labels_aug += [labels[i]]*6\n",
        "    elif labels[i] == 3 and thres < 0.3:\n",
        "      images_aug = data_aug(np.asarray(imagesList[i], dtype='float32'))\n",
        "      images_array += images_aug\n",
        "      labels_aug += [labels[i]]*6\n",
        "    elif labels[i] == 4 and thres < 0.3:\n",
        "      images_aug = data_aug(np.asarray(imagesList[i], dtype='float32'))\n",
        "      images_array += images_aug  \n",
        "      labels_aug += [labels[i]]*6 \n",
        "  images_array = np.asarray(images_array,dtype='float32') / 127.5 - 1  #refer keras image preprocessing utils(tf mode)\n",
        "  return images_array, labels_aug"
      ],
      "execution_count": 0,
      "outputs": []
    },
    {
      "cell_type": "code",
      "metadata": {
        "id": "HaHsNp2INQHf",
        "colab_type": "code",
        "outputId": "8219730a-bdb8-4c5b-8349-790f67c0e618",
        "colab": {
          "base_uri": "https://localhost:8080/",
          "height": 34
        }
      },
      "source": [
        "np.random.seed(123)\n",
        "images_array, labels_array = preprocess_images(images, labels)\n",
        "labels_array = np.array(labels_array)\n",
        "print(images_array.shape)"
      ],
      "execution_count": 0,
      "outputs": [
        {
          "output_type": "stream",
          "text": [
            "(6312, 224, 224, 3)\n"
          ],
          "name": "stdout"
        }
      ]
    },
    {
      "cell_type": "code",
      "metadata": {
        "id": "5pzXJWyGPqhm",
        "colab_type": "code",
        "outputId": "c83e8dc1-3f40-4de3-f636-3ac21b761598",
        "colab": {
          "base_uri": "https://localhost:8080/",
          "height": 34
        }
      },
      "source": [
        "np.unique(labels_array,return_counts=True)"
      ],
      "execution_count": 0,
      "outputs": [
        {
          "output_type": "execute_result",
          "data": {
            "text/plain": [
              "(array([0, 1, 2, 3, 4]), array([1230, 1296, 1392, 1146, 1248]))"
            ]
          },
          "metadata": {
            "tags": []
          },
          "execution_count": 8
        }
      ]
    },
    {
      "cell_type": "markdown",
      "metadata": {
        "id": "-amEbtKL0hdU",
        "colab_type": "text"
      },
      "source": [
        "### (d) shuffle dataset"
      ]
    },
    {
      "cell_type": "code",
      "metadata": {
        "id": "CYCjru2c0jpX",
        "colab_type": "code",
        "colab": {}
      },
      "source": [
        "images_array, labels_array = shuffle(images_array, labels_array, random_state=42)"
      ],
      "execution_count": 0,
      "outputs": []
    },
    {
      "cell_type": "markdown",
      "metadata": {
        "id": "VRnyjg_qQ_Am",
        "colab_type": "text"
      },
      "source": [
        "## Step 2: Train Model"
      ]
    },
    {
      "cell_type": "markdown",
      "metadata": {
        "id": "Xn4pfhHD0az7",
        "colab_type": "text"
      },
      "source": [
        "Here, we used the idea of transfer learning to build our model. Our base model is mobile net which is small but powerful."
      ]
    },
    {
      "cell_type": "code",
      "metadata": {
        "id": "fk9_q9fYRDt8",
        "colab_type": "code",
        "colab": {}
      },
      "source": [
        "mobile_net = tf.keras.applications.MobileNet(input_shape=(224, 224, 3), include_top=False)\n",
        "mobile_net.trainable=False  #non-trainable"
      ],
      "execution_count": 0,
      "outputs": []
    },
    {
      "cell_type": "code",
      "metadata": {
        "id": "hqToC-hwvOzN",
        "colab_type": "code",
        "colab": {}
      },
      "source": [
        "# mobile_net.summary()"
      ],
      "execution_count": 0,
      "outputs": []
    },
    {
      "cell_type": "code",
      "metadata": {
        "id": "JgsheSVgka4Q",
        "colab_type": "code",
        "colab": {}
      },
      "source": [
        "features = mobile_net.predict(images_array)"
      ],
      "execution_count": 0,
      "outputs": []
    },
    {
      "cell_type": "code",
      "metadata": {
        "id": "wSd3t3JcJGTJ",
        "colab_type": "code",
        "colab": {}
      },
      "source": [
        "snake_model= tf.keras.Sequential([ \n",
        "  tf.keras.layers.Flatten(input_shape=(7,7,1024,)),\n",
        "  tf.keras.layers.Dropout(0.6),\n",
        "  tf.keras.layers.Dense(256,activation='softmax'),\n",
        "  tf.keras.layers.Dense(6,activation='softmax')])"
      ],
      "execution_count": 0,
      "outputs": []
    },
    {
      "cell_type": "code",
      "metadata": {
        "id": "4l_xOioxTn96",
        "colab_type": "code",
        "outputId": "66aeefa6-fd40-4ab9-f159-75c3b16e523b",
        "colab": {
          "base_uri": "https://localhost:8080/",
          "height": 1000
        }
      },
      "source": [
        "snake_model.compile(optimizer=tf.optimizers.Adam(1e-4), \n",
        "                  loss=tf.keras.losses.sparse_categorical_crossentropy,\n",
        "                  metrics=[\"accuracy\"])\n",
        "history=snake_model.fit(features,labels_array,batch_size=256,epochs=30,validation_split=0.2)"
      ],
      "execution_count": 0,
      "outputs": [
        {
          "output_type": "stream",
          "text": [
            "Train on 5049 samples, validate on 1263 samples\n",
            "Epoch 1/30\n",
            "5049/5049 [==============================] - 6s 1ms/sample - loss: 1.7402 - accuracy: 0.3981 - val_loss: 1.7030 - val_accuracy: 0.5091\n",
            "Epoch 2/30\n",
            "5049/5049 [==============================] - 5s 1ms/sample - loss: 1.6939 - accuracy: 0.5546 - val_loss: 1.6778 - val_accuracy: 0.6073\n",
            "Epoch 3/30\n",
            "5049/5049 [==============================] - 5s 1ms/sample - loss: 1.6761 - accuracy: 0.6189 - val_loss: 1.6685 - val_accuracy: 0.6643\n",
            "Epoch 4/30\n",
            "5049/5049 [==============================] - 5s 1ms/sample - loss: 1.6662 - accuracy: 0.6621 - val_loss: 1.6623 - val_accuracy: 0.6595\n",
            "Epoch 5/30\n",
            "5049/5049 [==============================] - 5s 1ms/sample - loss: 1.6593 - accuracy: 0.6724 - val_loss: 1.6566 - val_accuracy: 0.6904\n",
            "Epoch 6/30\n",
            "5049/5049 [==============================] - 5s 1ms/sample - loss: 1.6526 - accuracy: 0.6980 - val_loss: 1.6488 - val_accuracy: 0.7110\n",
            "Epoch 7/30\n",
            "5049/5049 [==============================] - 5s 1ms/sample - loss: 1.6463 - accuracy: 0.7055 - val_loss: 1.6427 - val_accuracy: 0.7158\n",
            "Epoch 8/30\n",
            "5049/5049 [==============================] - 5s 1ms/sample - loss: 1.6394 - accuracy: 0.7281 - val_loss: 1.6360 - val_accuracy: 0.7530\n",
            "Epoch 9/30\n",
            "5049/5049 [==============================] - 5s 1ms/sample - loss: 1.6326 - accuracy: 0.8194 - val_loss: 1.6306 - val_accuracy: 0.8377\n",
            "Epoch 10/30\n",
            "5049/5049 [==============================] - 5s 1ms/sample - loss: 1.6272 - accuracy: 0.8483 - val_loss: 1.6247 - val_accuracy: 0.8622\n",
            "Epoch 11/30\n",
            "5049/5049 [==============================] - 5s 1ms/sample - loss: 1.6208 - accuracy: 0.8732 - val_loss: 1.6203 - val_accuracy: 0.8749\n",
            "Epoch 12/30\n",
            "5049/5049 [==============================] - 5s 1ms/sample - loss: 1.6152 - accuracy: 0.8855 - val_loss: 1.6152 - val_accuracy: 0.8812\n",
            "Epoch 13/30\n",
            "5049/5049 [==============================] - 5s 1ms/sample - loss: 1.6104 - accuracy: 0.8875 - val_loss: 1.6117 - val_accuracy: 0.8804\n",
            "Epoch 14/30\n",
            "5049/5049 [==============================] - 5s 1ms/sample - loss: 1.6061 - accuracy: 0.8976 - val_loss: 1.6062 - val_accuracy: 0.8876\n",
            "Epoch 15/30\n",
            "5049/5049 [==============================] - 5s 1ms/sample - loss: 1.5999 - accuracy: 0.9097 - val_loss: 1.6018 - val_accuracy: 0.8915\n",
            "Epoch 16/30\n",
            "5049/5049 [==============================] - 5s 1ms/sample - loss: 1.5961 - accuracy: 0.9101 - val_loss: 1.5982 - val_accuracy: 0.8923\n",
            "Epoch 17/30\n",
            "5049/5049 [==============================] - 5s 1ms/sample - loss: 1.5906 - accuracy: 0.9222 - val_loss: 1.5928 - val_accuracy: 0.9058\n",
            "Epoch 18/30\n",
            "5049/5049 [==============================] - 5s 1ms/sample - loss: 1.5865 - accuracy: 0.9230 - val_loss: 1.5892 - val_accuracy: 0.9105\n",
            "Epoch 19/30\n",
            "5049/5049 [==============================] - 5s 1ms/sample - loss: 1.5819 - accuracy: 0.9269 - val_loss: 1.5840 - val_accuracy: 0.9113\n",
            "Epoch 20/30\n",
            "5049/5049 [==============================] - 5s 1ms/sample - loss: 1.5772 - accuracy: 0.9325 - val_loss: 1.5799 - val_accuracy: 0.9169\n",
            "Epoch 21/30\n",
            "5049/5049 [==============================] - 5s 1ms/sample - loss: 1.5724 - accuracy: 0.9350 - val_loss: 1.5764 - val_accuracy: 0.9153\n",
            "Epoch 22/30\n",
            "5049/5049 [==============================] - 5s 1ms/sample - loss: 1.5683 - accuracy: 0.9400 - val_loss: 1.5717 - val_accuracy: 0.9200\n",
            "Epoch 23/30\n",
            "5049/5049 [==============================] - 5s 1ms/sample - loss: 1.5645 - accuracy: 0.9443 - val_loss: 1.5673 - val_accuracy: 0.9192\n",
            "Epoch 24/30\n",
            "5049/5049 [==============================] - 5s 1ms/sample - loss: 1.5596 - accuracy: 0.9447 - val_loss: 1.5638 - val_accuracy: 0.9264\n",
            "Epoch 25/30\n",
            "5049/5049 [==============================] - 5s 1ms/sample - loss: 1.5548 - accuracy: 0.9507 - val_loss: 1.5596 - val_accuracy: 0.9295\n",
            "Epoch 26/30\n",
            "5049/5049 [==============================] - 5s 1ms/sample - loss: 1.5499 - accuracy: 0.9574 - val_loss: 1.5573 - val_accuracy: 0.9279\n",
            "Epoch 27/30\n",
            "5049/5049 [==============================] - 5s 1ms/sample - loss: 1.5465 - accuracy: 0.9562 - val_loss: 1.5521 - val_accuracy: 0.9287\n",
            "Epoch 28/30\n",
            "5049/5049 [==============================] - 5s 1ms/sample - loss: 1.5421 - accuracy: 0.9584 - val_loss: 1.5482 - val_accuracy: 0.9311\n",
            "Epoch 29/30\n",
            "5049/5049 [==============================] - 5s 1ms/sample - loss: 1.5376 - accuracy: 0.9610 - val_loss: 1.5436 - val_accuracy: 0.9319\n",
            "Epoch 30/30\n",
            "5049/5049 [==============================] - 5s 1ms/sample - loss: 1.5338 - accuracy: 0.9602 - val_loss: 1.5398 - val_accuracy: 0.9319\n"
          ],
          "name": "stdout"
        }
      ]
    },
    {
      "cell_type": "markdown",
      "metadata": {
        "id": "3MBxOjYt01_j",
        "colab_type": "text"
      },
      "source": [
        "## Step 3: Analysis and Prediction"
      ]
    },
    {
      "cell_type": "code",
      "metadata": {
        "id": "NDlcyNjxnsgG",
        "colab_type": "code",
        "outputId": "be783779-3b87-4c97-9d7d-92c2e2192feb",
        "colab": {
          "base_uri": "https://localhost:8080/",
          "height": 34
        }
      },
      "source": [
        "# pred = snake_model.predict(features)\n",
        "# pred_y = np.argmax(pred, axis=1)\n",
        "# np.unique(pred_y != labels_array, return_counts=True)"
      ],
      "execution_count": 0,
      "outputs": [
        {
          "output_type": "execute_result",
          "data": {
            "text/plain": [
              "(array([False,  True]), array([5953,  359]))"
            ]
          },
          "metadata": {
            "tags": []
          },
          "execution_count": 34
        }
      ]
    },
    {
      "cell_type": "code",
      "metadata": {
        "id": "sHEiZQ_ZUJMA",
        "colab_type": "code",
        "outputId": "e2e5c03e-e364-429e-cbd9-9fadbd337d5b",
        "colab": {
          "base_uri": "https://localhost:8080/",
          "height": 323
        }
      },
      "source": [
        "plt.figure(figsize=(10,5))\n",
        "plt.subplot(121)\n",
        "plt.plot(history.epoch,history.history['loss'],label='train')\n",
        "plt.plot(history.epoch,history.history['val_loss'],'--',label='validation')\n",
        "plt.subplot(122)\n",
        "plt.plot(history.epoch,history.history['accuracy'],label='train')\n",
        "plt.plot(history.epoch,history.history['val_accuracy'],'--',label='validation')\n",
        "plt.legend()\n",
        "plt.show()"
      ],
      "execution_count": 0,
      "outputs": [
        {
          "output_type": "display_data",
          "data": {
            "image/png": "[encoded data removed]",
            "text/plain": [
              "<Figure size 720x360 with 2 Axes>"
            ]
          },
          "metadata": {
            "tags": []
          }
        }
      ]
    },
    {
      "cell_type": "code",
      "metadata": {
        "id": "00JoQzioj1rc",
        "colab_type": "code",
        "outputId": "25e74209-6516-4634-fac2-ea6f16aea954",
        "colab": {
          "base_uri": "https://localhost:8080/",
          "height": 51
        }
      },
      "source": [
        "# img_test = Image.open('test.jpg')\n",
        "# img_test = img_test.resize((width, height))\n",
        "# img_test = np.asarray(img_test, dtype='float32')\n",
        "# img_test = img_test / 127.5 - 1\n",
        "# img_test = np.expand_dims(img_test,0)\n",
        "# temp = mobile_net.predict(img_test)\n",
        "# snake_model.predict(temp)"
      ],
      "execution_count": 0,
      "outputs": [
        {
          "output_type": "execute_result",
          "data": {
            "text/plain": [
              "array([[1.4244671e-02, 9.8565513e-01, 9.0160608e-09, 7.5417207e-05,\n",
              "        2.3780238e-05, 1.0160327e-06]], dtype=float32)"
            ]
          },
          "metadata": {
            "tags": []
          },
          "execution_count": 122
        }
      ]
    },
    {
      "cell_type": "markdown",
      "metadata": {
        "id": "y27evM5yXQCL",
        "colab_type": "text"
      },
      "source": [
        "## Step 4: Save Model"
      ]
    },
    {
      "cell_type": "code",
      "metadata": {
        "id": "wHzb1xfKan-y",
        "colab_type": "code",
        "colab": {}
      },
      "source": [
        "!mkdir model\n",
        "snake_model.save('./model/model.h5')"
      ],
      "execution_count": 0,
      "outputs": []
    },
    {
      "cell_type": "code",
      "metadata": {
        "id": "CbzH_BChaWF_",
        "colab_type": "code",
        "colab": {}
      },
      "source": [
        "!sudo pip install tensorflowjs"
      ],
      "execution_count": 0,
      "outputs": []
    },
    {
      "cell_type": "code",
      "metadata": {
        "id": "Pp6Gru50VTAz",
        "colab_type": "code",
        "colab": {}
      },
      "source": [
        "!mkdir tfjs_model\n",
        "!tensorflowjs_converter --input_format=keras ./model/model.h5 ./tfjs_model"
      ],
      "execution_count": 0,
      "outputs": []
    },
    {
      "cell_type": "code",
      "metadata": {
        "id": "y2JKeuzLaDCr",
        "colab_type": "code",
        "outputId": "45b26ddb-e9e4-48f9-82f0-54c4ec6d1044",
        "colab": {
          "base_uri": "https://localhost:8080/",
          "height": 272
        }
      },
      "source": [
        "!zip -r model.zip ./tfjs_model/"
      ],
      "execution_count": 0,
      "outputs": [
        {
          "output_type": "stream",
          "text": [
            "  adding: tfjs_model/ (stored 0%)\n",
            "  adding: tfjs_model/group1-shard13of13.bin (deflated 8%)\n",
            "  adding: tfjs_model/group1-shard11of13.bin (deflated 8%)\n",
            "  adding: tfjs_model/group1-shard4of13.bin (deflated 8%)\n",
            "  adding: tfjs_model/group1-shard8of13.bin (deflated 8%)\n",
            "  adding: tfjs_model/group1-shard6of13.bin (deflated 8%)\n",
            "  adding: tfjs_model/group1-shard7of13.bin (deflated 8%)\n",
            "  adding: tfjs_model/group1-shard5of13.bin (deflated 8%)\n",
            "  adding: tfjs_model/group1-shard1of13.bin (deflated 8%)\n",
            "  adding: tfjs_model/model.json (deflated 71%)\n",
            "  adding: tfjs_model/group1-shard9of13.bin (deflated 8%)\n",
            "  adding: tfjs_model/group1-shard2of13.bin (deflated 8%)\n",
            "  adding: tfjs_model/group1-shard12of13.bin (deflated 8%)\n",
            "  adding: tfjs_model/group1-shard3of13.bin (deflated 8%)\n",
            "  adding: tfjs_model/group1-shard10of13.bin (deflated 8%)\n"
          ],
          "name": "stdout"
        }
      ]
    },
    {
      "cell_type": "code",
      "metadata": {
        "id": "0852MkVUwMwc",
        "colab_type": "code",
        "colab": {}
      },
      "source": [
        "!rm -rf tfjs_model\n",
        "!rm -rf model\n",
        "!rm -rf model.zip"
      ],
      "execution_count": 0,
      "outputs": []
    }
  ]
}